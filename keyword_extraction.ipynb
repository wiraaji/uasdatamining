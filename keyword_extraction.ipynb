{
 "cells": [
  {
   "cell_type": "markdown",
   "id": "80038f36",
   "metadata": {},
   "source": [
    "<h3> KEYWORD EXTRACTION METODE YAKE </h3>\n",
    "<h1> Nama : Wira Aji Nugraha </h1>\n",
    "<h1> NIM : 32602000064 </h1>"
   ]
  },
  {
   "cell_type": "code",
   "execution_count": 1,
   "id": "9999b232",
   "metadata": {},
   "outputs": [],
   "source": [
    "import pandas as pd\n",
    "import re\n",
    "from yake import KeywordExtractor"
   ]
  },
  {
   "cell_type": "code",
   "execution_count": 6,
   "id": "1f08cdb4",
   "metadata": {
    "scrolled": true
   },
   "outputs": [],
   "source": [
    "# Membaca file CSV\n",
    "df = pd.read_csv(r'C:\\Users\\WAN\\Documents\\daftarjurnal.csv')"
   ]
  },
  {
   "cell_type": "code",
   "execution_count": 3,
   "id": "b9c7d91b",
   "metadata": {},
   "outputs": [],
   "source": [
    "# pre procesing\n",
    "\n",
    "def preprocess_text(text):\n",
    "    if isinstance(text, str):\n",
    "        \n",
    "# Menghapus angka\n",
    "        text = re.sub(r'\\d+', '', text)  \n",
    "    \n",
    "# Menghapus karakter khusus\n",
    "        text = re.sub(r'[^\\w\\s]', '', text)\n",
    "    \n",
    "# Mengubah teks menjadi lowercase\n",
    "        text = text.lower() \n",
    "    return text\n",
    "for key in df:\n",
    "    df[key] = df[key].apply(preprocess_text)\n"
   ]
  },
  {
   "cell_type": "code",
   "execution_count": 4,
   "id": "f4e714fd",
   "metadata": {},
   "outputs": [],
   "source": [
    "# Menghapus stopwords dalam bahasa Indonesia dan Inggris\n",
    "def remove_stopwords(text):\n",
    "    stopwords_ind = set(stopwords.words('indonesian'))\n",
    "    stopwords_eng = set(stopwords.words('english'))\n",
    "    stopwords_all = stopwords_ind.union(stopwords_eng)\n",
    "    \n",
    "    words = text.split()\n",
    "    filtered_words = [word for word in words if word not in stopwords_all]\n",
    "    filtered_text = ' '.join(filtered_words)\n",
    "    \n",
    "    return filtered_text"
   ]
  },
  {
   "cell_type": "code",
   "execution_count": 5,
   "id": "85ce1ea9",
   "metadata": {},
   "outputs": [],
   "source": [
    "# Mendapatkan kolom judul dan abstrak\n",
    "judul = df['JUDUL'].astype(str)\n",
    "abstrak = df['ABSTRAK'].astype(str)\n"
   ]
  },
  {
   "cell_type": "code",
   "execution_count": 6,
   "id": "c5712c32",
   "metadata": {},
   "outputs": [],
   "source": [
    "# Menginisialisasi objek KeywordExtractor\n",
    "extractor = KeywordExtractor()\n"
   ]
  },
  {
   "cell_type": "code",
   "execution_count": 7,
   "id": "267a31a4",
   "metadata": {},
   "outputs": [],
   "source": [
    "# Membuat fungsi untuk mendapatkan 3 keyword teratas dari teks\n",
    "def get_top_keywords(text):\n",
    "    extracted_keywords = extractor.extract_keywords(text)\n",
    "    top_keywords = [keyword.split()[:2] for keyword, score in extracted_keywords[:3]]\n",
    "    return top_keywords"
   ]
  },
  {
   "cell_type": "code",
   "execution_count": 9,
   "id": "01c1b4b4",
   "metadata": {},
   "outputs": [
    {
     "name": "stdout",
     "output_type": "stream",
     "text": [
      "Judul:\n",
      " rancangan bangun aplikasi untuk klasifikasi topik dokumen artikel ilmiah bahasa indonesia menggunakan metode support vector machine svm\n",
      "Abstrak:\n",
      " artikel ilmiah adalah tulisan hasil proses penelitian yang mengikuti kaidah metode dan sistematika yang telah disepakati sehingga kebenerannya dapat dipertanggung jawabkan dan media yang banyak digunakan untuk publikasi karya atau artikel ilmiah adalah internet dari data yang tertera pada website httpssintaristekbringoid menunjukkan bahwa jumlah publikasi di internet terus meningkat setiap tahunnya di tahun  jumlah publikasi di scopus hanya berjumlah  dan jumlah publikasi di google scholar adalah  kemudian\n",
      "jumlahnya terus meningkat sampai pada tahun  kemarin jumlah publikasi di\n",
      "scopus adalah  dan jumlah publikasi di google scholar adalah \n",
      "karena jumlahnya yang terus meningkat setiap tahunnya pengelolaan data\n",
      "dokumen publikasi tidak bisa lagi dilakukan secara manual termasuk\n",
      "pengelompokan atau klasifikasi dokumen berdasarkan topik penelitiannya setelah melakukan penelitian dengan menggunakan  dokumen dapat disimpulkan bahwa klasifikasi topik dokumen artikel ilmiah bahasa indonesia dapat dilakukan dengan menggunakan metode metode support vector machine dengan hasil skor akurasi  presisi  dan recall \n",
      "Keywords:\n",
      " ['artikel ilmiah', 'ilmiah bahasa', 'support vector']\n",
      "\n",
      "Judul:\n",
      " implementasi metode topsis technique for others reference by similarity to ideal solution untuk menentukan salesman terbaik pada pt enseval putera megatrading tbk\n",
      "Abstrak:\n",
      " ptenseval putera megatrading tbk merupakan perusahaan yang bergerak dalam bidang farmasi dengan berbagai macam pelayanan dengan karyawan dari berbagai divisi salah satunya salesman agar dapat bersaing dengan perusahaan lain di bidang yang sama maka perusahaan wajib memberikan penghargaan bagi salesman terbaik agar dapat bekerja maksimal sehingga perlu adanya sistem untuk membantu dalam melakukan seleksi dan dapat menjadi bahan pertimbangan dalam menentukan salesman terbaik peneltian ini menggunakan metode topsis technique for others reference by similarity to ideal solution karena perhitungan komputasinya lebih efisien dan cepat sehingga mampu menjadi pengukur kinerja dan juga alternatif keputusan dalam sebuah bentuk output komputasi yang sederhana dengan dibuatnya sistem pendukung keputusan dengan metode topsis technique for others reference by similarity to ideal solution ini diharapkan dapat memberikan solusi kemudahan dalam melakukan perhitungan atau proses seleksi yang membutuhkan ketepatan hasil dan perhitungan yang akurat dalam memberikan penghargaa bagi salesman terbaik ptenseval putera megatrading tbk kesimpulan yang didapat dalam penelitian ini yaitu berhasilnya dalam implementasi metode topsis untuk menentukan salesman terbaik sudah dapat dilakukan perhitungan dan perangkingan sebagaimana yang diharapkan sebagaimana hasil dalam sistem tersebut\n",
      "Keywords:\n",
      " ['metode topsis', 'putera megatrading', 'menentukan salesman']\n",
      "\n",
      "Judul:\n",
      " sistem monitoring dan kontrol kualitas air pada kolam ikan koi berbasis internet of things iot\n",
      "Abstrak:\n",
      " pada penelitian ini dirancang suatu sistem yang dapat digunakan sebagai memonitor dan kontrol kualitas air kolam ikan koi dengan tujuan dapat membantu pemelihara ikan koi meningkatkan pertumbuhan pada ikan koi itu sendiri saat ini ikan koi banyak diminati oleh beberapa pecinta ikan hias pada kolam rumah atau perkantoran melihat ikan koi yang berenang di dalam kolam dapat membantu menurunkan tekanan darah  denyut jantung selain itu juga dapat di jadikan sebagai stress relief pada tubuh manusia ikan koi merupakan ikan hias yang sangat sensitif terhadap kualitas air oleh karena itu kualitas air sangat berperan dalam perkembangan ikan koi itu sendiri pertumbuhan ikan koi tergantung pada beberapa faktor yaitu jenis ikan sifat genetis kemampuan memanfaatkan makanan ketahanan terhadap penyakit ruang gerak dan kualitas air pada penelitian ini terdapat empat parameter penting yang dijadikan sebagai acuan untuk mengamati kualitas air ikan koi parameter suhu ideal ikan koi adalah   c parameter keasaman ideal ikan koi adalah berkisar antara    ph parameter minimum oksigen terlarut do ikan koi adalah  ppm sedangkan batas maksimum parameter kekeruhan atau turbidity ikan koi adalah  ntu pada penelitian ini telah dibuat sistem yang dapat memonitor dan mengontrol kualitas air kolam ikan koi dengan menggunakan sensor dissolved oxygen do sensor ph sensor suhu dan sensor turbidity dengan menggunakan metode forward chaining kualitas air telah dikendalikan dengan baik dalam menentukan keputusan dan pengendalian sesuai dengan aturan pakar selain itu sistem ini dapat menjalankan fungsi pengambilan data pengambilan keputusan pengiriman data ke cloud dan dapat menjalankan aktuator dengan baik pada penelitian ini didapatkan nilai akurasi kinerja sistem  dengan sepuluh kali percobaan\n",
      "Keywords:\n",
      " ['ikan koi', 'kolam ikan', 'pada penelitian']\n",
      "\n",
      "Judul:\n",
      " sistem informasi geografis pencarian jalur terpendek untuk menghindari daerah rawan banjir di kota semarang menggunakan metode bfs breadth first search studi kasus  semarang utara\n",
      "Abstrak:\n",
      " kota semarang merupakan salah satu kota besar di indonesia yang terdiri dari beberapa kecamatan dan sebagian besar penduduknya ada yang bermukim di bagian garis pantai utara jawa yaitu bagian semarang utarakecamatan semarang utara merupakan salah satu tempat di kota semarang yang sering terkena genangan rob berdasarkan pengamatan lapangan banyak bangunan yang tergenang dibandingkan dengan kecamatankecamatan lain di kota semarangsig dapat menyajikan informasi fisik suatu daerah yangberpengaruh dalam menentukan daerah rawan banjir serta menentukan jalur terpendek yang terjadi di kota semarangpenelitian ini bertujuan membangun sebuah sistem informasi geografis yang dapat digunakan untuk pencarian jalur terdekat untuk menghindari daerah rawan banjir di kota semarang pada daerah semarang utaramenggunakan metode breadth first search bfs aplikasi ini tediri dari user dan admin admin mengolah data jalan data bobot jalan data banjir dimana admin untuk mengelola data harus login terlebih dahulu sedangkan user dapat mencari jalur terpendek yang diinginkan dengan memilih jalan awal dan jalan tujuan kemudian sistem akan menampilkan jalur terpendek yang aman dan bebas dari banjir rob beserta jarak yang ditempuh\n",
      "Keywords:\n",
      " ['daerah rawan', 'menghindari daerah', 'merupakan salah']\n",
      "\n",
      "Judul:\n",
      " sistem rekomendasi pencarian tempat wisata di kudus menggunakan metode haversine\n",
      "Abstrak:\n",
      " kota kudus memiliki banyak sekali wisata tetapi yang masyarakat kunjungi sebagian besar hanya ke dua tempat saja yaitu makam sunan kudus dan makam sunan muria sehingga banyak tempat wisata lain yang berada di kota kudus\n",
      "jarang di kunjungi dan kurang terekpos serta permasalahan selanjutnya yaitu pengenalan tempat pariwisata oleh pemerintah setempat yang masih menggunakan metode lama yaitu berupa pengenalan tempat pariwisata secara manual sistem rekomendasi pencarian tempat wisata di kota kudus menggunakan metode haversine dapat digunakan untuk melakukan pencarian tempat wisata yang ada di kota kudus dan mempermudah bagi wisatawan yang ingin berkunjung ke kota kudus sistem ini dapat menampilkan rekomendasi tempat yang mau dikunjungi melalui kriteriakriteria jenis wisata yang telah dipilih aplikasi ini tediri dari user dan admin admin dapat mengolah data dan memasukkan lokasi ke sistem dan untuk melakukan tersebut admin harus login terlebih dahulu sedangkan user dapat mencari tempat yang telah ditentukan dan user dapat memilih tempat mana saja yang dapat dikunjungi penelitian selanjutnya diharapkan dapat dikembangkan menjadi platform android\n",
      "Keywords:\n",
      " ['pencarian tempat', 'menggunakan metode', 'kudus menggunakan']\n",
      "\n"
     ]
    }
   ],
   "source": [
    "# Menampilkan judul, abstrak, dan 2 kata dari keyword teratas\n",
    "for i in range(len(judul)):\n",
    "    print(\"Judul:\\n\", judul[i])\n",
    "    print(\"Abstrak:\\n\", abstrak[i])\n",
    "    text = abstrak[i] + ' ' + judul[i]\n",
    "    keywords = get_top_keywords(text)\n",
    "    combined_keywords = [' '.join(keyword) for keyword in keywords]\n",
    "    print(\"Keywords:\\n\", combined_keywords)\n",
    "    print()"
   ]
  },
  {
   "cell_type": "code",
   "execution_count": null,
   "id": "bfe13356",
   "metadata": {},
   "outputs": [],
   "source": []
  }
 ],
 "metadata": {
  "kernelspec": {
   "display_name": "Python 3 (ipykernel)",
   "language": "python",
   "name": "python3"
  },
  "language_info": {
   "codemirror_mode": {
    "name": "ipython",
    "version": 3
   },
   "file_extension": ".py",
   "mimetype": "text/x-python",
   "name": "python",
   "nbconvert_exporter": "python",
   "pygments_lexer": "ipython3",
   "version": "3.11.3"
  }
 },
 "nbformat": 4,
 "nbformat_minor": 5
}
